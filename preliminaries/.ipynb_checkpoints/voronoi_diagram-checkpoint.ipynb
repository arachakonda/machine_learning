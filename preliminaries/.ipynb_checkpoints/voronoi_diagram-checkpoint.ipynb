{
 "cells": [
  {
   "cell_type": "markdown",
   "id": "8f7df064",
   "metadata": {},
   "source": [
    "# Voronoi Diagrams\n",
    "\n",
    "Vornoi Diagrams are a powerful computational geometry tool for analysing metric spaces. They are used to understand how KNN algorithm works. They are also used in manifold learning. They are also used in tradtional AI based planners for navigation."
   ]
  },
  {
   "cell_type": "code",
   "execution_count": 132,
   "id": "47f878ce",
   "metadata": {},
   "outputs": [],
   "source": [
    "import matplotlib.pyplot as plt\n",
    "import numpy as np\n",
    "import scipy\n",
    "%matplotlib qt"
   ]
  },
  {
   "cell_type": "markdown",
   "id": "2e19d0ab",
   "metadata": {},
   "source": [
    "Defining a Utility Function to set aspect ratio of the plot"
   ]
  },
  {
   "cell_type": "code",
   "execution_count": 133,
   "id": "f5062dd9",
   "metadata": {},
   "outputs": [],
   "source": [
    "def forceAspect(ax,aspect=1):\n",
    "    ax.set_aspect('equal')"
   ]
  },
  {
   "cell_type": "markdown",
   "id": "e028f642",
   "metadata": {},
   "source": [
    "Create an array of random points for the sake of data"
   ]
  },
  {
   "cell_type": "code",
   "execution_count": 134,
   "id": "c41b7ca9",
   "metadata": {},
   "outputs": [],
   "source": [
    "x= np.random.rand(100,1)\n",
    "y= np.random.rand(100,1)"
   ]
  },
  {
   "cell_type": "markdown",
   "id": "5be1dca3",
   "metadata": {},
   "source": [
    "Plotting the random point matrix"
   ]
  },
  {
   "cell_type": "code",
   "execution_count": 135,
   "id": "6c5ddcb8",
   "metadata": {},
   "outputs": [
    {
     "data": {
      "text/plain": [
       "<matplotlib.collections.PathCollection at 0x7f9e247ac0f0>"
      ]
     },
     "execution_count": 135,
     "metadata": {},
     "output_type": "execute_result"
    }
   ],
   "source": [
    "fig, ax = plt.subplots(figsize=(5, 5))\n",
    "ax.scatter(x,y,c=\"orange\")"
   ]
  },
  {
   "cell_type": "markdown",
   "id": "908c97fe",
   "metadata": {},
   "source": [
    "## Vornoi diagram: Notes\n",
    "\n",
    "*[Notes on Vornoi Diagrams](https://cs.brown.edu/courses/cs252/misc/resources/lectures/pdf/notes09.pdf)"
   ]
  },
  {
   "cell_type": "code",
   "execution_count": 129,
   "id": "f451acd1",
   "metadata": {},
   "outputs": [],
   "source": [
    "#plotting the random point matrix\n",
    "ax.scatter(x,y,c=\"orange\")\n",
    "#pick the first point to plot the voronoi diagram of\n",
    "ax.scatter(x[0],y[0],c=\"blue\")\n",
    "plt.show()\n",
    "#define a global variable to store the euclidean distance of the all the points in the set S with respect to s\n",
    "euc_dis = np.zeros(np.size(x)-1)"
   ]
  },
  {
   "cell_type": "code",
   "execution_count": 121,
   "id": "f23188ce",
   "metadata": {},
   "outputs": [],
   "source": [
    "def compute_delimiter_slope_midpoint(p_x1, p_y1, p_x2, p_y2):\n",
    "    midpoint = tuple((float((p_x1 + p_x2)/2), float((p_y1 + p_y2)/2)))\n",
    "    #print(p_x1, p_y1, midpoint[0], midpoint[1], p_x2,p_y2)\n",
    "    slope = (p_y2-p_y1)/(p_x2-p_x1)\n",
    "    return (slope,midpoint)"
   ]
  },
  {
   "cell_type": "code",
   "execution_count": 122,
   "id": "29b93ab9",
   "metadata": {},
   "outputs": [],
   "source": [
    "#plotting perpendicular bisectors wrt the chosen point\n",
    "def plot_perpendicular_bisector(ax,p_x, p_y, x_list, y_list):\n",
    "    #plotting the random point matrix\n",
    "    ax.scatter(x_list,y_list,c=\"orange\")\n",
    "    #pick the first point to plot the voronoi diagram of\n",
    "    plt.scatter(p_x,p_y,c=\"blue\")\n",
    "    for i in range(1,len(x_list)):\n",
    "        #compute slope of the delimiter\n",
    "        m, xy=compute_delimiter_slope_midpoint(p_x, p_y, x_list[i],y_list[i])\n",
    "        #print(xy)\n",
    "        #ax.scatter(xy[0],xy[1], c=\"red\")\n",
    "        #ax.axline(xy, slope=m, color=\"black\", linestyle=\"solid\", linewidth=0.2)\n",
    "        ax.axline(xy, slope=-1/m, color=\"green\", linestyle=\"solid\", linewidth=0.2)\n",
    "    forceAspect(ax,aspect=1)\n",
    "    plt.show()\n",
    "    return 0        "
   ]
  },
  {
   "cell_type": "code",
   "execution_count": 123,
   "id": "7b71c474",
   "metadata": {},
   "outputs": [
    {
     "data": {
      "text/plain": [
       "0"
      ]
     },
     "execution_count": 123,
     "metadata": {},
     "output_type": "execute_result"
    }
   ],
   "source": [
    "plot_perpendicular_bisector(ax, x[0], y[0], x, y)"
   ]
  },
  {
   "cell_type": "code",
   "execution_count": null,
   "id": "f145869c",
   "metadata": {},
   "outputs": [],
   "source": [
    "#arrange the perpendicular bisectors in the order of nearest last on the stack\n",
    "\n",
    "\n"
   ]
  },
  {
   "cell_type": "code",
   "execution_count": null,
   "id": "9de8a980",
   "metadata": {},
   "outputs": [],
   "source": []
  }
 ],
 "metadata": {
  "kernelspec": {
   "display_name": "Python 3",
   "language": "python",
   "name": "python3"
  },
  "language_info": {
   "codemirror_mode": {
    "name": "ipython",
    "version": 3
   },
   "file_extension": ".py",
   "mimetype": "text/x-python",
   "name": "python",
   "nbconvert_exporter": "python",
   "pygments_lexer": "ipython3",
   "version": "3.6.9"
  }
 },
 "nbformat": 4,
 "nbformat_minor": 5
}
