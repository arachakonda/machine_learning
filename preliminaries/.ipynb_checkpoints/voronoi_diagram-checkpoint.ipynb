{
 "cells": [
  {
   "cell_type": "markdown",
   "id": "75e28d3a",
   "metadata": {},
   "source": [
    "# Voronoi Diagrams\n",
    "\n",
    "Vornoi Diagrams are a powerful computational geometry tool for analysing metric spaces. They are used to understand how KNN algorithm works. They are also used in manifold learning. They are also used in tradtional AI based planners for navigation."
   ]
  },
  {
   "cell_type": "markdown",
   "id": "fccab320",
   "metadata": {},
   "source": [
    "## Reference\n",
    "\n",
    "*[Notes on Vornoi Diagrams](https://cs.brown.edu/courses/cs252/misc/resources/lectures/pdf/notes09.pdf)"
   ]
  },
  {
   "cell_type": "code",
   "execution_count": 1,
   "id": "be04e6bf",
   "metadata": {},
   "outputs": [],
   "source": [
    "import matplotlib.pyplot as plt\n",
    "import numpy as np\n",
    "import scipy\n",
    "import math\n",
    "%matplotlib qt"
   ]
  },
  {
   "cell_type": "code",
   "execution_count": 2,
   "id": "7bdaa8f3",
   "metadata": {},
   "outputs": [],
   "source": [
    "x= np.random.rand(100,1)\n",
    "y= np.random.rand(100,1)\n",
    "legend_list = []"
   ]
  },
  {
   "cell_type": "code",
   "execution_count": 3,
   "id": "600e01bd",
   "metadata": {},
   "outputs": [],
   "source": [
    "def setup_plot_env():\n",
    "    fig, ax = plt.subplots(figsize=(7, 7))\n",
    "    np.set_printoptions(precision = 8, suppress = True)\n",
    "    return fig, ax\n",
    "\n",
    "def show_legend(fig, ax):\n",
    "    #plot legend\n",
    "    handles, labels = ax.get_legend_handles_labels()\n",
    "    by_label = dict(zip(labels, handles))\n",
    "    ax.legend(by_label.values(), by_label.keys(), loc=\"lower right\")\n",
    "    fig.show()\n",
    "    \n",
    "\n",
    "def forceAspect(ax, aspect=1):\n",
    "    ax.set_aspect('equal')\n",
    "    \n",
    "def plot_random_points_pivot(fig, ax, x, y, pivot_pair_num):\n",
    "    #plotting the random point matrix\n",
    "    ax.scatter(x,y,c=\"orange\", label=\"random points\")\n",
    "    #pick the first point to plot the voronoi diagram of\n",
    "    ax.scatter(x[pivot_pair_num],y[pivot_pair_num],c=\"blue\", label=\"pivot point\")\n",
    "    fig.show()\n",
    "    #define a global variable to store the euclidean distance of the all the points in the set S with respect to s\n",
    "    global euc_dis, midpoints, slopes\n",
    "    euc_dis = [] # this is the list of euclidean distances to midpoints between pivot and random point\n",
    "    midpoints = [] # this is the list of midpoints\n",
    "    slopes = [] # this is the list of slopes to random points (and NOT the slope of perpendicular bisectors)\n",
    "    \n",
    "def comp_euc_dis(point, midpoint):\n",
    "    return math.sqrt((point[0]-midpoint[0])** 2 +  (point[1]-midpoint[1])** 2)\n",
    "\n",
    "def compute_delimiter_slope_midpoint(pivot,xy):\n",
    "    midpoint = (float((pivot[0]+xy[0])/2),float((pivot[1]+xy[1])/2))\n",
    "    try:\n",
    "        slope = float((pivot[1] - xy[1]) / (pivot[0] - xy[0]))\n",
    "    except:\n",
    "        slope = nan\n",
    "    return slope,midpoint\n",
    "\n",
    "#plotting perpendicular bisectors wrt the chosen point\n",
    "def plot_perpendicular_bisector(fig,ax,x, y, pivot_pair_num):\n",
    "    xy_list = np.array([x,y], np.float64).T.reshape(np.size(x),2)\n",
    "    #print(xy_list.shape)\n",
    "    #print(xy_list)\n",
    "    for xy in xy_list:\n",
    "        slope,midpoint = compute_delimiter_slope_midpoint((x[pivot_pair_num],y[pivot_pair_num]),xy)\n",
    "        euc_dis.append(comp_euc_dis(xy,midpoint))\n",
    "        midpoints.append(midpoint)\n",
    "        slopes.append(slope)\n",
    "        if((xy[0] != midpoint[0]) and (xy[1] != midpoint[1])):\n",
    "            ax.scatter(midpoint[0],midpoint[1], c=\"purple\", label=\"midpoints\")\n",
    "        ax.axline(midpoint, slope=-1/slope, linestyle=\"solid\",color = \"green\", linewidth=0.2,\n",
    "                  label=\"perpendicular bisector\")\n",
    "    #print(euc_dis)\n",
    "    forceAspect(ax,aspect=1)\n",
    "    show_legend(fig, ax)\n"
   ]
  },
  {
   "cell_type": "markdown",
   "id": "2130654a",
   "metadata": {},
   "source": [
    "Plot the perpendicular bisectors"
   ]
  },
  {
   "cell_type": "code",
   "execution_count": 4,
   "id": "73a8ec61",
   "metadata": {},
   "outputs": [
    {
     "name": "stderr",
     "output_type": "stream",
     "text": [
      "/home/ananth/.local/lib/python3.6/site-packages/ipykernel_launcher.py:35: RuntimeWarning: invalid value encountered in true_divide\n"
     ]
    }
   ],
   "source": [
    "fig, ax = setup_plot_env()\n",
    "pivot_pair_num = 0\n",
    "plot_random_points_pivot(fig, ax, x, y, pivot_pair_num)\n",
    "plot_perpendicular_bisector(fig, ax, x, y, 0)\n",
    "euc_dis = np.array(euc_dis)"
   ]
  },
  {
   "attachments": {},
   "cell_type": "markdown",
   "id": "6099bbb8",
   "metadata": {},
   "source": [
    "### Algorithmic solution to intersection of half planes containing the origin is:\n",
    "Two conditions have to be met on each iteratively chosen point to form a voronoi region. They are:\n",
    "* PC2 & O must be on the same side of PB1 to ensure convexity\n",
    "* choose PC2 from the midpoints list such that it is closest to PB1"
   ]
  },
  {
   "cell_type": "markdown",
   "id": "62c22500",
   "metadata": {},
   "source": [
    "to achieve the above, the following algorithm is proposed:\n",
    "1. find the nearest halfplane / smallest euclidean distance to midpoint through which perpendicular bisector is drawn\n",
    "2. find the next perpendicular bisector such that:\n",
    "    - it passes through the midpoint which is on the same side of the halfplane as the pivot point\n",
    "    - it is closest to the halfplane formed by the previous perpendicular bisector"
   ]
  },
  {
   "cell_type": "code",
   "execution_count": 5,
   "id": "31c698ae",
   "metadata": {},
   "outputs": [],
   "source": [
    "def point_line_arbl(x,y,index):\n",
    "    s = y - midpoints[index][1] + (1/slopes[index])*(x-midpoints[index][0])    \n",
    "    return s    "
   ]
  },
  {
   "cell_type": "code",
   "execution_count": 12,
   "id": "0211ed31",
   "metadata": {},
   "outputs": [],
   "source": [
    "def argminexp(arr,exp):\n",
    "    p = np.array(arr)\n",
    "    excptIndx = exp\n",
    "    m = np.zeros(p.size, dtype=bool)\n",
    "    m[excptIndx] = True\n",
    "    a = np.ma.array(p, mask=m)\n",
    "    return (np.argmin(a))\n",
    "\n",
    "def no_duplicate(exception_list):\n",
    "    #if len(exception_list) == len(set(exception_list)):\n",
    "    if len(exception_list) < 20:\n",
    "        return True\n",
    "    else:\n",
    "        return False\n",
    "    \n",
    "exception_list = [pivot_pair_num]"
   ]
  },
  {
   "cell_type": "code",
   "execution_count": 13,
   "id": "2672ebf6",
   "metadata": {},
   "outputs": [],
   "source": [
    "#for the first pass\n",
    "#extracting the index of midpoint closest to pivot => closest halfplane\n",
    "cl_ind = argminexp(euc_dis,exception_list)\n",
    "exception_list.append(cl_ind)\n",
    "ax.scatter(midpoints[cl_ind][0],midpoints[cl_ind][1], c=\"yellow\", label=\"closest midpoints\")\n",
    "show_legend(fig, ax)"
   ]
  },
  {
   "cell_type": "code",
   "execution_count": 14,
   "id": "69d4181a",
   "metadata": {},
   "outputs": [
    {
     "name": "stdout",
     "output_type": "stream",
     "text": [
      "42\n",
      "5\n",
      "31\n",
      "57\n",
      "12\n",
      "1\n",
      "43\n",
      "69\n",
      "70\n",
      "90\n",
      "71\n",
      "87\n",
      "75\n",
      "23\n",
      "33\n",
      "94\n",
      "9\n",
      "32\n"
     ]
    }
   ],
   "source": [
    "while(no_duplicate(exception_list)):\n",
    "    #determine point-halfplane 2 to n\n",
    "    # determine the position of pivot {a - above / r - right | b - below / l - left} w.r.t. the first point-halfplane\n",
    "    s=point_line_arbl(x[pivot_pair_num],y[pivot_pair_num],cl_ind)\n",
    "    hpp_mask = []\n",
    "    #find midpoints indices on the same side of pivot wrt current point-halfplane\n",
    "    for (p,q) in midpoints:\n",
    "        if(point_line_arbl(p,q,cl_ind)*s > 0):\n",
    "            hpp_mask.append(1) \n",
    "        else:\n",
    "            hpp_mask.append(np.inf)\n",
    "    hpp_mask = np.array(hpp_mask)\n",
    "    cl_ind = argminexp(hpp_mask*euc_dis, exception_list)\n",
    "    print(cl_ind)\n",
    "    ax.scatter(midpoints[cl_ind][0],midpoints[cl_ind][1], c=\"cyan\", label=\"closest midpoints\")\n",
    "    exception_list.append(cl_ind)\n",
    "    "
   ]
  },
  {
   "cell_type": "code",
   "execution_count": null,
   "id": "eaf46a5f",
   "metadata": {},
   "outputs": [],
   "source": []
  },
  {
   "cell_type": "markdown",
   "id": "1f6ca1db",
   "metadata": {},
   "source": [
    "Note that while doing the above we are not considering the case where the first point is the only closest point to the second point in which case it will return the first point itself. To avoid this a special argmin function has to be written which avoids a list of mentioned indices while returning the argmin"
   ]
  }
 ],
 "metadata": {
  "kernelspec": {
   "display_name": "Python 3",
   "language": "python",
   "name": "python3"
  },
  "language_info": {
   "codemirror_mode": {
    "name": "ipython",
    "version": 3
   },
   "file_extension": ".py",
   "mimetype": "text/x-python",
   "name": "python",
   "nbconvert_exporter": "python",
   "pygments_lexer": "ipython3",
   "version": "3.6.9"
  }
 },
 "nbformat": 4,
 "nbformat_minor": 5
}
