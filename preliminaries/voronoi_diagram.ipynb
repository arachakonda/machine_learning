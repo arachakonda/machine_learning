{
 "cells": [
  {
   "cell_type": "markdown",
   "id": "75e28d3a",
   "metadata": {},
   "source": [
    "# Voronoi Diagrams\n",
    "\n",
    "Vornoi Diagrams are a powerful computational geometry tool for analysing metric spaces. They are used to understand how KNN algorithm works. They are also used in manifold learning. They are also used in tradtional AI based planners for navigation."
   ]
  },
  {
   "cell_type": "markdown",
   "id": "fccab320",
   "metadata": {},
   "source": [
    "## Reference\n",
    "\n",
    "*[Notes on Vornoi Diagrams](https://cs.brown.edu/courses/cs252/misc/resources/lectures/pdf/notes09.pdf)"
   ]
  },
  {
   "cell_type": "code",
   "execution_count": 31,
   "id": "be04e6bf",
   "metadata": {},
   "outputs": [],
   "source": [
    "import matplotlib.pyplot as plt\n",
    "import numpy as np\n",
    "import scipy\n",
    "import math\n",
    "%matplotlib qt"
   ]
  },
  {
   "cell_type": "code",
   "execution_count": 32,
   "id": "7bdaa8f3",
   "metadata": {},
   "outputs": [],
   "source": [
    "x= np.random.rand(100,1)\n",
    "y= np.random.rand(100,1)\n",
    "legend_list = []"
   ]
  },
  {
   "cell_type": "code",
   "execution_count": 33,
   "id": "600e01bd",
   "metadata": {},
   "outputs": [],
   "source": [
    "def setup_plot_env():\n",
    "    fig, ax = plt.subplots(figsize=(7, 7))\n",
    "    np.set_printoptions(precision = 8, suppress = True)\n",
    "    return fig, ax\n",
    "\n",
    "def show_legend(fig, ax):\n",
    "    #plot legend\n",
    "    handles, labels = ax.get_legend_handles_labels()\n",
    "    by_label = dict(zip(labels, handles))\n",
    "    ax.legend(by_label.values(), by_label.keys(), loc=\"lower right\")\n",
    "    fig.show()\n",
    "    \n",
    "\n",
    "def forceAspect(ax, aspect=1):\n",
    "    ax.set_aspect('equal')\n",
    "    \n",
    "def plot_random_points_pivot(fig, ax, x, y, pivot_pair_num):\n",
    "    #plotting the random point matrix\n",
    "    ax.scatter(x,y,c=\"orange\", label=\"random points\")\n",
    "    #pick the first point to plot the voronoi diagram of\n",
    "    ax.scatter(x[pivot_pair_num],y[pivot_pair_num],c=\"blue\", label=\"pivot point\")\n",
    "    fig.show()\n",
    "    #define a global variable to store the euclidean distance of the all the points in the set S with respect to s\n",
    "    global euc_dis, midpoints, slopes\n",
    "    euc_dis = [] # this is the list of euclidean distances to midpoints between pivot and random point\n",
    "    midpoints = [] # this is the list of midpoints\n",
    "    slopes = [] # this is the list of slopes to random points (and NOT the slope of perpendicular bisectors)\n",
    "    \n",
    "def comp_euc_dis(point, midpoint):\n",
    "    return math.sqrt((point[0]-midpoint[0])** 2 +  (point[1]-midpoint[1])** 2)\n",
    "\n",
    "def compute_delimiter_slope_midpoint(pivot,xy):\n",
    "    midpoint = (float((pivot[0]+xy[0])/2),float((pivot[1]+xy[1])/2))\n",
    "    try:\n",
    "        slope = float((pivot[1] - xy[1]) / (pivot[0] - xy[0]))\n",
    "    except:\n",
    "        slope = nan\n",
    "    return slope,midpoint\n",
    "\n",
    "#plotting perpendicular bisectors wrt the chosen point\n",
    "def plot_perpendicular_bisector(fig,ax,x, y, pivot_pair_num):\n",
    "    xy_list = np.array([x,y], np.float64).T.reshape(np.size(x),2)\n",
    "    #print(xy_list.shape)\n",
    "    #print(xy_list)\n",
    "    for xy in xy_list:\n",
    "        slope,midpoint = compute_delimiter_slope_midpoint((x[pivot_pair_num],y[pivot_pair_num]),xy)\n",
    "        euc_dis.append(comp_euc_dis(xy,midpoint))\n",
    "        midpoints.append(midpoint)\n",
    "        slopes.append(slope)\n",
    "        if((xy[0] != midpoint[0]) and (xy[1] != midpoint[1])):\n",
    "            ax.scatter(midpoint[0],midpoint[1], c=\"purple\", label=\"midpoints\")\n",
    "        ax.axline(midpoint, slope=-1/slope, linestyle=\"solid\",color = \"green\", linewidth=0.2,\n",
    "                  label=\"perpendicular bisector\")\n",
    "    #print(euc_dis)\n",
    "    forceAspect(ax,aspect=1)\n",
    "    show_legend(fig, ax)\n"
   ]
  },
  {
   "cell_type": "markdown",
   "id": "2130654a",
   "metadata": {},
   "source": [
    "Plot the perpendicular bisectors"
   ]
  },
  {
   "cell_type": "code",
   "execution_count": 34,
   "id": "73a8ec61",
   "metadata": {},
   "outputs": [
    {
     "name": "stderr",
     "output_type": "stream",
     "text": [
      "/home/ananth/.local/lib/python3.6/site-packages/ipykernel_launcher.py:35: RuntimeWarning: invalid value encountered in true_divide\n"
     ]
    }
   ],
   "source": [
    "fig, ax = setup_plot_env()\n",
    "pivot_pair_num = 0\n",
    "plot_random_points_pivot(fig, ax, x, y, pivot_pair_num)\n",
    "plot_perpendicular_bisector(fig, ax, x, y, 0)\n",
    "euc_dis = np.array(euc_dis)"
   ]
  },
  {
   "attachments": {},
   "cell_type": "markdown",
   "id": "6099bbb8",
   "metadata": {},
   "source": [
    "### Algorithmic solution to intersection of half planes containing the origin is:\n",
    "Two conditions have to be met on each iteratively chosen point to form a voronoi region. They are:\n",
    "* PC2 & O must be on the same side of PB1 to ensure convexity\n",
    "* choose PC2 from the midpoints list such that it is closest to PB1"
   ]
  },
  {
   "cell_type": "markdown",
   "id": "7782a624",
   "metadata": {},
   "source": [
    "to achieve the above, the following algorithm is proposed:\n",
    "1. find the nearest halfplane / smallest euclidean distance to midpoint through which perpendicular bisector is drawn\n",
    "2. find the next perpendicular bisector such that:\n",
    "    - it passes through the midpoint which is on the same side of the halfplane as the pivot point\n",
    "    - it is closest to the halfplane formed by the previous perpendicular bisector"
   ]
  },
  {
   "cell_type": "code",
   "execution_count": null,
   "id": "d963764f",
   "metadata": {},
   "outputs": [],
   "source": [
    "def hp_test():\n",
    "    "
   ]
  },
  {
   "cell_type": "code",
   "execution_count": 35,
   "id": "524a8eb5",
   "metadata": {},
   "outputs": [],
   "source": [
    "def argminexp(arr,exp):\n",
    "    p = np.array(arr)\n",
    "    excptIndx = exp\n",
    "\n",
    "    m = np.zeros(p.size, dtype=bool)\n",
    "    m[excptIndx] = True\n",
    "    a = np.ma.array(p, mask=m)\n",
    "    return (np.argmin(a))\n",
    "exception_list = [0]"
   ]
  },
  {
   "cell_type": "code",
   "execution_count": 41,
   "id": "2672ebf6",
   "metadata": {},
   "outputs": [
    {
     "name": "stdout",
     "output_type": "stream",
     "text": [
      "71\n"
     ]
    }
   ],
   "source": [
    "#extracting the index of the closest midpoint => closest halfplane\n",
    "cl_ind = argminexp(euc_dis,exception_list)\n",
    "print(cl_ind)\n",
    "ax.scatter(midpoints[cl_ind][0],midpoints[cl_ind][1], c=\"yellow\", label=\"closest midpoint\")\n",
    "show_legend(fig, ax)\n",
    "#find the equation of the half-plane through this point is\n",
    "# y - midpoints[cl_ind][1] + (1/slopes[cl_ind])*(x-midpoints[cl_ind][0]) = 0  \n",
    "\n",
    "def point_line_arbl(x,y, midpoints, slopes, cl_ind):\n",
    "    s = y - midpoints[cl_ind][1] + (1/slopes[cl_ind])*(x-midpoints[cl_ind][0])    \n",
    "    return s\n",
    "\n",
    "#check if the pivot point is a - above / r - right | b - below / l - left of the halfplane\n",
    "s=point_line_arbl(x[pivot_pair_num],y[pivot_pair_num], midpoints, slopes, cl_ind)\n",
    "\n",
    "\n"
   ]
  },
  {
   "cell_type": "code",
   "execution_count": 38,
   "id": "891411c1",
   "metadata": {},
   "outputs": [
    {
     "name": "stdout",
     "output_type": "stream",
     "text": [
      "[1, 1, 0, 0, 0, 0, 0, 0, 0, 0, 0, 0, 1, 0, 0, 1, 0, 1, 1, 1, 0, 0, 0, 0, 0, 1, 0, 1, 1, 0, 0, 0, 0, 1, 0, 1, 0, 0, 0, 1, 1, 0, 0, 0, 1, 0, 1, 0, 0, 0, 0, 0, 0, 0, 0, 0, 1, 0, 1, 1, 1, 0, 0, 0, 0, 0, 1, 0, 1, 1, 0, 0, 0, 0, 0, 0, 0, 0, 0, 0, 0, 1, 1, 0, 0, 1, 0, 1, 1, 0, 0, 0, 0, 0, 0, 1, 1, 0, 0, 0]\n"
     ]
    }
   ],
   "source": [
    "hptl = halfplane_test(s, midpoints)\n",
    "print(hptl)"
   ]
  },
  {
   "cell_type": "code",
   "execution_count": 21,
   "id": "229efa45",
   "metadata": {},
   "outputs": [
    {
     "name": "stdout",
     "output_type": "stream",
     "text": [
      "[0.0, 0.07348517039640337, 1000, 1000, 1000, 1000, 0.16475815348930706, 1000, 1000, 1000, 0.28761595745095403, 0.25872642007002583, 0.1512537795933817, 0.04575509307867922, 1000, 0.2252937331700873, 1000, 1000, 1000, 1000, 0.13088936469946003, 1000, 1000, 0.28071616028427177, 1000, 1000, 1000, 1000, 1000, 1000, 1000, 1000, 1000, 1000, 1000, 1000, 0.20180466094648244, 0.24152476636735654, 1000, 0.14586789347865217, 1000, 1000, 1000, 1000, 1000, 1000, 1000, 0.1167737033332306, 0.2767165563092191, 1000, 1000, 1000, 1000, 0.03692321734401912, 1000, 1000, 0.23745186924197564, 1000, 1000, 1000, 1000, 1000, 1000, 1000, 1000, 0.1862973111569127, 0.20223814844585364, 1000, 1000, 1000, 1000, 1000, 1000, 1000, 1000, 1000, 1000, 0.26344384502873075, 1000, 0.10923478631835354, 0.09326440310299135, 1000, 0.09775537111192882, 1000, 1000, 0.1809030055597164, 0.0995126919958163, 1000, 0.18360381794345798, 0.24433816299666775, 1000, 1000, 1000, 0.13188053180264175, 0.12148330381115545, 1000, 1000, 1000, 1000, 0.23976262096344164]\n"
     ]
    }
   ],
   "source": [
    "midpoint_distance_list=[]\n",
    "for i in range(len(hptl)):\n",
    "    if hptl[i] == 1:\n",
    "        midpoint_distance_list.append(euc_dis[i])\n",
    "    else:\n",
    "        midpoint_distance_list.append(1000)\n",
    "print(midpoint_distance_list)"
   ]
  },
  {
   "cell_type": "code",
   "execution_count": 23,
   "id": "ee82969c",
   "metadata": {},
   "outputs": [
    {
     "data": {
      "text/plain": [
       "53"
      ]
     },
     "execution_count": 23,
     "metadata": {},
     "output_type": "execute_result"
    }
   ],
   "source": [
    "exception_list = [0]\n",
    "argminexp(midpoint_distance_list,exception_list)"
   ]
  },
  {
   "cell_type": "code",
   "execution_count": 24,
   "id": "7b384734",
   "metadata": {},
   "outputs": [
    {
     "data": {
      "text/plain": [
       "<matplotlib.collections.PathCollection at 0x7fa000765908>"
      ]
     },
     "execution_count": 24,
     "metadata": {},
     "output_type": "execute_result"
    }
   ],
   "source": [
    "plt.scatter(midpoints[53][0], midpoints[53][1], c=\"black\")"
   ]
  },
  {
   "cell_type": "code",
   "execution_count": 11,
   "id": "96487553",
   "metadata": {},
   "outputs": [],
   "source": [
    "#extracting the index of the closest midpoint => closest halfplane\n",
    "cl_ind = 53\n",
    "ax.scatter(midpoints[cl_ind][0],midpoints[cl_ind][1], c=\"yellow\", label=\"closest midpoint\")\n",
    "#check if the pivot point is a - above / r - right | b - below / l - left of the halfplane\n",
    "s=point_line_arbl(x[pivot_pair_num],y[pivot_pair_num], midpoints, slopes, cl_ind)\n",
    "\n"
   ]
  },
  {
   "cell_type": "code",
   "execution_count": 13,
   "id": "3013bdd6",
   "metadata": {},
   "outputs": [
    {
     "name": "stdout",
     "output_type": "stream",
     "text": [
      "[1, 1, 1, 1, 1, 0, 0, 1, 0, 1, 0, 0, 0, 1, 0, 0, 1, 1, 0, 0, 0, 0, 1, 0, 1, 1, 1, 1, 0, 1, 1, 1, 1, 0, 1, 0, 0, 0, 1, 0, 1, 1, 1, 0, 1, 1, 1, 0, 0, 0, 0, 1, 1, 0, 1, 1, 0, 1, 1, 0, 1, 1, 0, 1, 1, 0, 0, 0, 1, 1, 1, 0, 1, 0, 0, 1, 0, 0, 1, 0, 0, 1, 1, 1, 1, 0, 0, 0, 0, 0, 1, 0, 0, 0, 0, 1, 0, 1, 1, 0]\n"
     ]
    }
   ],
   "source": [
    "hptl = halfplane_test(s, midpoints)\n",
    "print(hptl)"
   ]
  },
  {
   "cell_type": "code",
   "execution_count": 14,
   "id": "35e27428",
   "metadata": {},
   "outputs": [
    {
     "name": "stdout",
     "output_type": "stream",
     "text": [
      "[0.0, 0.07348517039640337, 0.30095891172111, 0.15452702122291004, 0.10640914755747942, 1000, 1000, 0.14981693715102284, 1000, 0.3372600437527556, 1000, 1000, 1000, 0.04575509307867922, 1000, 1000, 0.0949368839789198, 0.3629934866744924, 1000, 1000, 1000, 1000, 0.15600717391373684, 1000, 0.39316755866092024, 0.26047910779827904, 0.3970618562183037, 0.3825174119113422, 1000, 0.31066340183785707, 0.3489057666580028, 0.08879893128609752, 0.2812473492008388, 1000, 0.2319501569052244, 1000, 1000, 1000, 0.24017180616248576, 1000, 0.25713388522891867, 0.4411766721399112, 0.1413039583971753, 1000, 0.453441428965298, 0.11748871650328048, 0.05678892689453849, 1000, 1000, 1000, 1000, 0.36177306049432645, 0.20869490822592807, 1000, 0.3975450393370867, 0.16019745986581638, 1000, 0.08083944830821706, 0.20033187944177538, 1000, 0.1621754469895159, 0.3968458889321429, 1000, 0.030280078533723217, 0.2653274138251824, 1000, 1000, 1000, 0.09251082457397163, 0.13933918296977982, 0.35742153981558683, 1000, 0.2735084592766243, 1000, 1000, 0.06807067649934084, 1000, 1000, 0.1976015670844098, 1000, 1000, 0.33886631123423616, 0.09775537111192882, 0.33919505268442113, 0.24839078892594824, 1000, 1000, 1000, 1000, 1000, 0.04288724438579011, 1000, 1000, 1000, 1000, 0.4058877926320609, 1000, 0.24888119844799422, 0.3350737536009977, 1000]\n"
     ]
    }
   ],
   "source": [
    "midpoint_distance_list=[]\n",
    "for i in range(len(hptl)):\n",
    "    if hptl[i] == 1:\n",
    "        midpoint_distance_list.append(euc_dis[i])\n",
    "    else:\n",
    "        midpoint_distance_list.append(1000)\n",
    "print(midpoint_distance_list)"
   ]
  },
  {
   "cell_type": "code",
   "execution_count": 15,
   "id": "e571423b",
   "metadata": {},
   "outputs": [
    {
     "data": {
      "text/plain": [
       "63"
      ]
     },
     "execution_count": 15,
     "metadata": {},
     "output_type": "execute_result"
    }
   ],
   "source": [
    "np.argmin(midpoint_distance_list[1:])+1"
   ]
  },
  {
   "cell_type": "markdown",
   "id": "9812520a",
   "metadata": {},
   "source": [
    "Note that while doing the above we are not considering the case where the first point is the only closest point to the second point in which case it will return the first point itself. To avoid this a special argmin function has to be written which avoids a list of mentioned indices while returning the argmin"
   ]
  },
  {
   "cell_type": "code",
   "execution_count": null,
   "id": "7022fc2f",
   "metadata": {},
   "outputs": [],
   "source": []
  }
 ],
 "metadata": {
  "kernelspec": {
   "display_name": "Python 3",
   "language": "python",
   "name": "python3"
  },
  "language_info": {
   "codemirror_mode": {
    "name": "ipython",
    "version": 3
   },
   "file_extension": ".py",
   "mimetype": "text/x-python",
   "name": "python",
   "nbconvert_exporter": "python",
   "pygments_lexer": "ipython3",
   "version": "3.6.9"
  }
 },
 "nbformat": 4,
 "nbformat_minor": 5
}
