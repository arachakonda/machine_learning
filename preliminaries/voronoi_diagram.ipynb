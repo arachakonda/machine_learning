{
 "cells": [
  {
   "cell_type": "markdown",
   "id": "9e9c8f4b",
   "metadata": {},
   "source": [
    "# Voronoi Diagrams\n",
    "\n",
    "Vornoi Diagrams are a powerful computational geometry tool for analysing metric spaces. They are used to understand how KNN algorithm works. They are also used in manifold learning. They are also used in tradtional AI based planners for navigation."
   ]
  },
  {
   "cell_type": "code",
   "execution_count": 1,
   "id": "99b7c646",
   "metadata": {},
   "outputs": [],
   "source": [
    "import matplotlib.pyplot as plt\n",
    "import numpy as np\n",
    "import scipy\n",
    "import math\n",
    "%matplotlib qt"
   ]
  },
  {
   "cell_type": "markdown",
   "id": "587491c0",
   "metadata": {},
   "source": [
    "Defining a Utility Function to set aspect ratio of the plot"
   ]
  },
  {
   "cell_type": "code",
   "execution_count": 2,
   "id": "8339c397",
   "metadata": {},
   "outputs": [],
   "source": [
    "def forceAspect(ax,aspect=1):\n",
    "    ax.set_aspect('equal')\n",
    "np.set_printoptions(precision = 8, suppress = True)"
   ]
  },
  {
   "cell_type": "markdown",
   "id": "f3f8b015",
   "metadata": {},
   "source": [
    "Create an array of random points for the sake of data"
   ]
  },
  {
   "cell_type": "code",
   "execution_count": 3,
   "id": "58ce57fc",
   "metadata": {},
   "outputs": [],
   "source": [
    "x= np.random.rand(30,1)\n",
    "y= np.random.rand(30,1)"
   ]
  },
  {
   "cell_type": "markdown",
   "id": "849cfb7d",
   "metadata": {},
   "source": [
    "Plotting the random point matrix"
   ]
  },
  {
   "cell_type": "code",
   "execution_count": 4,
   "id": "c5f1db82",
   "metadata": {},
   "outputs": [
    {
     "data": {
      "text/plain": [
       "<matplotlib.collections.PathCollection at 0x7fc990040a90>"
      ]
     },
     "execution_count": 4,
     "metadata": {},
     "output_type": "execute_result"
    }
   ],
   "source": [
    "fig, ax = plt.subplots(figsize=(5, 5))\n",
    "ax.scatter(x,y,c=\"orange\")"
   ]
  },
  {
   "cell_type": "markdown",
   "id": "25b2b9b2",
   "metadata": {},
   "source": [
    "## Reference\n",
    "\n",
    "*[Notes on Vornoi Diagrams](https://cs.brown.edu/courses/cs252/misc/resources/lectures/pdf/notes09.pdf)"
   ]
  },
  {
   "cell_type": "code",
   "execution_count": 5,
   "id": "50e31f2d",
   "metadata": {},
   "outputs": [],
   "source": [
    "#plotting the random point matrix\n",
    "ax.scatter(x,y,c=\"orange\")\n",
    "#pick the first point to plot the voronoi diagram of\n",
    "ax.scatter(x[0],y[0],c=\"blue\")\n",
    "plt.show()\n",
    "#define a global variable to store the euclidean distance of the all the points in the set S with respect to s\n",
    "euc_dis = []\n",
    "midpoints = []\n",
    "slopes = []"
   ]
  },
  {
   "cell_type": "code",
   "execution_count": 6,
   "id": "3b0d4582",
   "metadata": {},
   "outputs": [],
   "source": [
    "def comp_euc_dis(point, midpoint):\n",
    "    return math.sqrt((point[0]-midpoint[0])** 2 +  (point[0]-midpoint[0])** 2)"
   ]
  },
  {
   "cell_type": "code",
   "execution_count": 7,
   "id": "f8af8e6d",
   "metadata": {},
   "outputs": [],
   "source": [
    "def compute_delimiter_slope_midpoint(pivot,xy):\n",
    "    midpoint = (float((pivot[0]+xy[0])/2),float((pivot[1]+xy[1])/2))\n",
    "    try:\n",
    "        slope = float((pivot[1] - xy[1]) / (pivot[0] - xy[0]))\n",
    "    except:\n",
    "        slope = nan\n",
    "    return slope,midpoint"
   ]
  },
  {
   "cell_type": "code",
   "execution_count": 8,
   "id": "b02fc637",
   "metadata": {},
   "outputs": [],
   "source": [
    "#plotting perpendicular bisectors wrt the chosen point\n",
    "def plot_perpendicular_bisector(ax,pivot, x, y):\n",
    "    xy_list = np.array([x,y], np.float64).T.reshape(np.size(x),2)\n",
    "    print(xy_list.shape)\n",
    "    #print(xy_list)\n",
    "    for xy in xy_list:\n",
    "        slope,midpoint = compute_delimiter_slope_midpoint(pivot,xy)\n",
    "        euc_dis.append(comp_euc_dis(xy,midpoint))\n",
    "        midpoints.append(midpoint)\n",
    "        slopes.append(slope)\n",
    "        if((xy[0] != midpoint[0]) and (xy[1] != midpoint[1])):\n",
    "           ax.scatter(midpoint[0],midpoint[1], c=\"purple\")\n",
    "        ax.axline(midpoint, slope=-1/slope, linestyle=\"solid\",color = \"green\", linewidth=0.2)\n",
    "    #print(euc_dis)\n",
    "    forceAspect(ax,aspect=1)\n",
    "    plt.show()       "
   ]
  },
  {
   "cell_type": "markdown",
   "id": "9a532d88",
   "metadata": {},
   "source": [
    "Plot the perpendicular bisectors"
   ]
  },
  {
   "cell_type": "code",
   "execution_count": 9,
   "id": "27a910e2",
   "metadata": {},
   "outputs": [
    {
     "name": "stdout",
     "output_type": "stream",
     "text": [
      "(30, 2)\n"
     ]
    },
    {
     "name": "stderr",
     "output_type": "stream",
     "text": [
      "/home/ananth/machine_learning/machine_learning/preliminaries/jupyterenv/lib/python3.6/site-packages/ipykernel_launcher.py:4: RuntimeWarning: invalid value encountered in true_divide\n",
      "  after removing the cwd from sys.path.\n"
     ]
    }
   ],
   "source": [
    "#plot pivot and draw perpendicular bisector\n",
    "ax.scatter(x[0],y[0], c=\"blue\")\n",
    "plot_perpendicular_bisector(ax, (x[0], y[0]), x, y)"
   ]
  },
  {
   "cell_type": "markdown",
   "id": "f7a2e811",
   "metadata": {},
   "source": [
    "arrange the perpendicular bisectors in the order of nearest to farthest"
   ]
  },
  {
   "cell_type": "code",
   "execution_count": 10,
   "id": "4d6aaf14",
   "metadata": {},
   "outputs": [
    {
     "name": "stdout",
     "output_type": "stream",
     "text": [
      "[0.         0.62055501 0.00847198 0.20960532 0.20357974 0.2154299\n",
      " 0.3079717  0.33046114 0.55340061 0.09671872 0.64609563 0.20389564\n",
      " 0.56212979 0.67869851 0.20246255 0.60785543 0.50119417 0.04952355\n",
      " 0.4608624  0.60473284 0.00885459 0.00947834 0.41645288 0.292829\n",
      " 0.19855437 0.00249941 0.46658846 0.15129928 0.35857799 0.67937133]\n"
     ]
    }
   ],
   "source": [
    "euc_dis = np.array(euc_dis)\n",
    "print(euc_dis)"
   ]
  },
  {
   "cell_type": "code",
   "execution_count": 11,
   "id": "0788866c",
   "metadata": {},
   "outputs": [
    {
     "name": "stdout",
     "output_type": "stream",
     "text": [
      "[ 0 25  2 20 21 17  9 27 24 14  4 11  3  5 23  6  7 28 22 18 26 16  8 12\n",
      " 19 15  1 10 13 29]\n",
      "0.0\n",
      "0.002499410940976407\n",
      "0.008471982753791145\n",
      "0.008854585389769154\n",
      "0.009478341969030668\n",
      "0.04952354774248248\n",
      "0.09671872027719458\n",
      "0.15129928140879645\n",
      "0.1985543721725797\n",
      "0.20246255406992814\n",
      "0.20357974285644215\n",
      "0.20389563738367897\n",
      "0.20960532424146577\n",
      "0.21542990034699303\n",
      "0.2928290001240151\n",
      "0.3079717039850826\n",
      "0.33046113828046464\n",
      "0.3585779853829852\n",
      "0.41645287516970947\n",
      "0.46086239675067675\n",
      "0.4665884584416952\n",
      "0.5011941656144869\n",
      "0.5534006109691066\n",
      "0.5621297906874578\n",
      "0.6047328433218317\n",
      "0.6078554292121516\n",
      "0.6205550108400677\n",
      "0.6460956282605228\n",
      "0.678698511373166\n",
      "0.6793713299003006\n"
     ]
    }
   ],
   "source": [
    "index_sorted = euc_dis.argsort()\n",
    "print(index_sorted)\n",
    "for i in index_sorted:\n",
    "    print(euc_dis[i])"
   ]
  },
  {
   "cell_type": "markdown",
   "id": "3527123e",
   "metadata": {},
   "source": [
    "function to find the voronoi region from the set"
   ]
  },
  {
   "cell_type": "code",
   "execution_count": 12,
   "id": "bfd7b54a",
   "metadata": {},
   "outputs": [],
   "source": [
    "def voronoi_region_indices(slopes, index_sorted):\n",
    "    voronoi_region_index = index_sorted\n",
    "    return voronoi_region_index"
   ]
  },
  {
   "cell_type": "code",
   "execution_count": 13,
   "id": "6d8b6ff2",
   "metadata": {},
   "outputs": [
    {
     "name": "stdout",
     "output_type": "stream",
     "text": [
      "[ 0 25  2 20 21 17  9 27 24 14  4 11  3  5 23  6  7 28 22 18 26 16  8 12\n",
      " 19 15  1 10 13 29]\n"
     ]
    }
   ],
   "source": [
    "vor_reg_ind = voronoi_region_indices(slopes,index_sorted)\n",
    "print(vor_reg_ind)"
   ]
  },
  {
   "cell_type": "code",
   "execution_count": 16,
   "id": "6f6c347c",
   "metadata": {},
   "outputs": [
    {
     "name": "stdout",
     "output_type": "stream",
     "text": [
      "(0.039169590067539395, 0.26787043617258566)\n",
      "nan\n",
      "(0.03563488921686686, 0.3718228622912336)\n",
      "-29.409115653696503\n",
      "(0.03740223964220313, 0.31984664923190964)\n",
      "(0.051150782978141796, 0.33829112931436145)\n",
      "5.877602811941964\n",
      "(0.045160186522840595, 0.30308078274347355)\n",
      "(0.05169186481494159, 0.5870495342540779)\n",
      "25.4889071290907\n",
      "(0.04543072744124049, 0.4274599852133318)\n"
     ]
    }
   ],
   "source": [
    "for i in vor_reg_ind[:4]:\n",
    "    point_xy = (float(x[i]),float(y[i]))\n",
    "    print(point_xy)\n",
    "    slope_m = slopes[i]\n",
    "    print(slope_m)\n",
    "    if(i != 0):\n",
    "        #ax.plot((x[0],midpoints[i][0]),(y[0],midpoints[i][1]), linestyle=\"solid\", color=\"black\", linewidth=0.2) \n",
    "        #ax.scatter(midpoints[i][0],midpoints[i][1],c=\"yellow\")\n",
    "        print(midpoints[i])\n",
    "    #ax.axline(midpoints[i], slope=-1/slope_m, color=\"red\", linestyle=(5,(10,10)), linewidth=0.5)    \n",
    "forceAspect(ax,aspect=1)\n",
    "plt.show() "
   ]
  },
  {
   "cell_type": "code",
   "execution_count": null,
   "id": "c7a5c448",
   "metadata": {},
   "outputs": [],
   "source": []
  },
  {
   "cell_type": "code",
   "execution_count": null,
   "id": "aba71e86",
   "metadata": {},
   "outputs": [],
   "source": []
  },
  {
   "cell_type": "code",
   "execution_count": null,
   "id": "0edcd21c",
   "metadata": {},
   "outputs": [],
   "source": []
  },
  {
   "cell_type": "code",
   "execution_count": null,
   "id": "56604c74",
   "metadata": {},
   "outputs": [],
   "source": []
  }
 ],
 "metadata": {
  "kernelspec": {
   "display_name": "Python 3",
   "language": "python",
   "name": "python3"
  },
  "language_info": {
   "codemirror_mode": {
    "name": "ipython",
    "version": 3
   },
   "file_extension": ".py",
   "mimetype": "text/x-python",
   "name": "python",
   "nbconvert_exporter": "python",
   "pygments_lexer": "ipython3",
   "version": "3.6.9"
  }
 },
 "nbformat": 4,
 "nbformat_minor": 5
}
